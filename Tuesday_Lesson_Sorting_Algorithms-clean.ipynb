{
 "cells": [
  {
   "cell_type": "markdown",
   "metadata": {},
   "source": [
    "## Tasks Today:\n",
    "\n",
    "1) <b><a href=\"#insertion-sort\">Insertion Sort</a></b> <br>\n",
    "2) <b><a href=\"#bubble-sort\">Bubble Sort</a></b> <br>\n",
    "3) <b><a href=\"#selection-sort\">Selection Sort</a></b> <br>\n",
    "4) <b><a href=\"#merge-sort\">Merge Sort</a></b> <br>"
   ]
  },
  {
   "cell_type": "markdown",
   "metadata": {},
   "source": [
    "<h2 id=\"insertion-sort\">Insertion Sort</h2>"
   ]
  },
  {
   "cell_type": "code",
   "execution_count": 1,
   "metadata": {},
   "outputs": [],
   "source": [
    "import random\n",
    "my_list=[random.randint(1,100) for i in range(10)]"
   ]
  },
  {
   "cell_type": "code",
   "execution_count": 2,
   "metadata": {},
   "outputs": [
    {
     "data": {
      "text/plain": [
       "[27, 61, 72, 47, 21, 90, 87, 65, 34, 2]"
      ]
     },
     "execution_count": 2,
     "metadata": {},
     "output_type": "execute_result"
    }
   ],
   "source": [
    "my_list"
   ]
  },
  {
   "cell_type": "code",
   "execution_count": 3,
   "metadata": {},
   "outputs": [
    {
     "name": "stdout",
     "output_type": "stream",
     "text": [
      "Unsorted: [27, 61, 72, 47, 21, 90, 87, 65, 34, 2]\n",
      "Sorted: [2, 21, 27, 34, 47, 61, 65, 72, 87, 90]\n"
     ]
    }
   ],
   "source": [
    "#theory \n",
    "#start with two lists, one empty (designated for new, sorted values) and the full (original, unsorted) list\n",
    "#start by adding the first number in the unsorted list into the sorted list\n",
    "#compare the first number in the unsortedlist with the to number in the sorted list\n",
    "#if one of the numbers that we're comparing is greater/lesser that the tw numbers wil be swapped\n",
    "\n",
    "def insertion_sort(a_list):\n",
    "    list_copy = a_list.copy()\n",
    "    print('Unsorted:', list_copy)\n",
    "    for i in range(len(list_copy)):\n",
    "        value_to_sort = list_copy[i]\n",
    "        \n",
    "        while list_copy[i-1]> value_to_sort and i > 0:\n",
    "            list_copy[i], list_copy[i-1]=list_copy[i-1], list_copy[i]\n",
    "            i-=1\n",
    "            \n",
    "        \n",
    "    print('Sorted:', list_copy)\n",
    "    \n",
    "insertion_sort(my_list)"
   ]
  },
  {
   "cell_type": "markdown",
   "metadata": {},
   "source": [
    "<h2 id=\"bubble-sort\">Bubble Sort</h2>"
   ]
  },
  {
   "cell_type": "code",
   "execution_count": 4,
   "metadata": {},
   "outputs": [
    {
     "name": "stdout",
     "output_type": "stream",
     "text": [
      "Unsorted: [27, 61, 72, 47, 21, 90, 87, 65, 34, 2]\n",
      "Sorted: [2, 21, 27, 34, 47, 61, 65, 72, 87, 90]\n"
     ]
    }
   ],
   "source": [
    "def bubble_sort(a_list):\n",
    "    list_copy = a_list.copy()\n",
    "    print('Unsorted:', list_copy)\n",
    "    for i in range(len(list_copy) - 1):\n",
    "        for j in range(len(list_copy)- i - 1 ):\n",
    "            if list_copy[j] > list_copy[j+1]:\n",
    "                list_copy[j], list_copy[j+1]=list_copy[j+1], list_copy[j]\n",
    "                \n",
    "    print('Sorted:', list_copy)\n",
    "        \n",
    "bubble_sort(my_list)"
   ]
  },
  {
   "cell_type": "code",
   "execution_count": null,
   "metadata": {},
   "outputs": [],
   "source": []
  },
  {
   "cell_type": "markdown",
   "metadata": {},
   "source": [
    "<h2 id=\"selection-sort\">Selection Sort</h2>"
   ]
  },
  {
   "cell_type": "code",
   "execution_count": 9,
   "metadata": {},
   "outputs": [
    {
     "name": "stdout",
     "output_type": "stream",
     "text": [
      "Unsorted: [27, 61, 72, 47, 21, 90, 87, 65, 34, 2]\n",
      "Sorted: [2, 21, 27, 34, 47, 61, 65, 72, 87, 90]\n"
     ]
    }
   ],
   "source": [
    "#Theory:Keep track of the lowest number in the current iteration/loop and sorts/swaps \n",
    "#lowest/trackednumber accordingly\n",
    "\n",
    "def selection_sort(a_list):\n",
    "    list_copy = a_list.copy()\n",
    "    print('Unsorted:', list_copy)\n",
    "    \n",
    "    #loop through the list\n",
    "    #as we loop over list, if we get to the last item in the iteration, theres nothing\n",
    "    #else to look afterward\n",
    "    \n",
    "    for current_idx in range(len(list_copy) - 1):\n",
    "        idx_with_min_value=current_idx\n",
    "        \n",
    "        #get the elemnt in the current index\n",
    "        for j in range(current_idx+1, len(list_copy)):\n",
    "            #if the value is less than the valuethat is currently at the ind_ with__min_value\n",
    "            if list_copy[j] < list_copy[idx_with_min_value]:\n",
    "                #set new minimum value\n",
    "                idx_with_min_value = j\n",
    "                \n",
    "        #if we find an item with the lowest value in the current iteration\n",
    "        if idx_with_min_value !=current_idx:\n",
    "            #swap\n",
    "            list_copy[idx_with_min_value], list_copy[current_idx] = list_copy[current_idx], list_copy[idx_with_min_value]\n",
    "        \n",
    "        \n",
    "    print('Sorted:', list_copy)\n",
    "\n",
    "selection_sort(my_list)"
   ]
  },
  {
   "cell_type": "markdown",
   "metadata": {},
   "source": [
    "<h2 id=\"merge-sort\">Merge Sort</h2>"
   ]
  },
  {
   "cell_type": "code",
   "execution_count": 19,
   "metadata": {},
   "outputs": [
    {
     "data": {
      "text/plain": [
       "[2, 21, 27, 34, 47, 61, 65, 72, 87, 90]"
      ]
     },
     "execution_count": 19,
     "metadata": {},
     "output_type": "execute_result"
    }
   ],
   "source": [
    "def merge(list1, list2):\n",
    "    list_c=[]\n",
    "    \n",
    "    #if theither of the lists are empty\n",
    "    while list1 and list2:\n",
    "        #compare the 0th indeex of te lists\n",
    "        if list1[0]>list2[0]:\n",
    "            list_c.append(list2.pop(0))\n",
    "        else:\n",
    "            list_c.append(list1.pop(0))\n",
    "    #list should be empty. Merge teh valuefrom list1 into list_c\n",
    "    while list1:\n",
    "        list_c.append(list1.pop(0))\n",
    "    #list2 should be empty. merge the value from list1 into list_c\n",
    "    while list2:\n",
    "        list_c.append(list2.pop(0))\n",
    "    return list_c\n",
    "    \n",
    "def merge_sort(a_list):\n",
    "    list_copy=a_list.copy()\n",
    "\n",
    "    #base case\n",
    "    if len(list_copy)<=1:\n",
    "        return list_copy\n",
    "    \n",
    "    mid_idx=len(list_copy) // 2\n",
    "    \n",
    "    #seperate the list into halves\n",
    "    left=merge_sort(list_copy[:mid_idx])\n",
    "    right=merge_sort(list_copy[mid_idx:])\n",
    "    \n",
    "    return merge(left, right)\n",
    "\n",
    "merge_sort(my_list)"
   ]
  },
  {
   "cell_type": "code",
   "execution_count": null,
   "metadata": {},
   "outputs": [],
   "source": []
  }
 ],
 "metadata": {
  "kernelspec": {
   "display_name": "Python 3",
   "language": "python",
   "name": "python3"
  },
  "language_info": {
   "codemirror_mode": {
    "name": "ipython",
    "version": 3
   },
   "file_extension": ".py",
   "mimetype": "text/x-python",
   "name": "python",
   "nbconvert_exporter": "python",
   "pygments_lexer": "ipython3",
   "version": "3.8.5"
  }
 },
 "nbformat": 4,
 "nbformat_minor": 4
}
